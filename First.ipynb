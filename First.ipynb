{
 "cells": [
  {
   "cell_type": "code",
   "execution_count": 1,
   "id": "742eb89e-8140-41e9-9d18-5ac968f4e36d",
   "metadata": {},
   "outputs": [
    {
     "name": "stdout",
     "output_type": "stream",
     "text": [
      "Member1이 작업함\n"
     ]
    }
   ],
   "source": [
    "print('Member1이 작업함')"
   ]
  },
  {
   "cell_type": "code",
   "execution_count": 4,
   "id": "c749efa2-e65c-4e4d-b3b1-0d1f9b2d88f7",
   "metadata": {},
   "outputs": [
    {
     "name": "stdout",
     "output_type": "stream",
     "text": [
      "Member1이 또 작업함\n"
     ]
    }
   ],
   "source": [
    "print('Member1이 또 작업함')"
   ]
  },
  {
   "cell_type": "code",
   "execution_count": 5,
   "id": "c3c85dc0-d0b9-472f-a41c-9b514f78ce5d",
   "metadata": {},
   "outputs": [
    {
     "name": "stdout",
     "output_type": "stream",
     "text": [
      "Member2이 작업함\n"
     ]
    }
   ],
   "source": [
    "print('Member2이 작업함')"
   ]
  },
  {
   "cell_type": "code",
   "execution_count": null,
   "id": "475e56ed-c818-41b0-a3b7-330ff975a612",
   "metadata": {},
   "outputs": [],
   "source": [
    "print('newEDA 브랜치에서 작업함')"
   ]
  },
  {
   "cell_type": "code",
   "execution_count": null,
   "id": "2c22a65e-adf7-4a4d-b8ff-f6a9710a2c1c",
   "metadata": {},
   "outputs": [],
   "source": []
  }
 ],
 "metadata": {
  "kernelspec": {
   "display_name": "Python 3 (ipykernel)",
   "language": "python",
   "name": "python3"
  },
  "language_info": {
   "codemirror_mode": {
    "name": "ipython",
    "version": 3
   },
   "file_extension": ".py",
   "mimetype": "text/x-python",
   "name": "python",
   "nbconvert_exporter": "python",
   "pygments_lexer": "ipython3",
   "version": "3.11.5"
  }
 },
 "nbformat": 4,
 "nbformat_minor": 5
}
